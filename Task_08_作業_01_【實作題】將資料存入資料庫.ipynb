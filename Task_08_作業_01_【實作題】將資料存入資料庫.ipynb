{
  "nbformat": 4,
  "nbformat_minor": 0,
  "metadata": {
    "colab": {
      "provenance": [],
      "authorship_tag": "ABX9TyMjEJEAPz6+8sGtcEJILlgZ",
      "include_colab_link": true
    },
    "kernelspec": {
      "name": "python3",
      "display_name": "Python 3"
    },
    "language_info": {
      "name": "python"
    }
  },
  "cells": [
    {
      "cell_type": "markdown",
      "metadata": {
        "id": "view-in-github",
        "colab_type": "text"
      },
      "source": [
        "<a href=\"https://colab.research.google.com/github/smc147258/-Python-/blob/main/Task_08_%E4%BD%9C%E6%A5%AD_01_%E3%80%90%E5%AF%A6%E4%BD%9C%E9%A1%8C%E3%80%91%E5%B0%87%E8%B3%87%E6%96%99%E5%AD%98%E5%85%A5%E8%B3%87%E6%96%99%E5%BA%AB.ipynb\" target=\"_parent\"><img src=\"https://colab.research.google.com/assets/colab-badge.svg\" alt=\"Open In Colab\"/></a>"
      ]
    },
    {
      "cell_type": "code",
      "source": [
        "import sqlite3\n",
        "import datetime\n",
        "\n",
        "conn = sqlite3.connect('example.db')\n",
        "c = conn.cursor()\n",
        "\n",
        "# 新增且清空資料表\n",
        "c.execute('''CREATE TABLE IF NOT EXISTS pharmacies\n",
        "             (city text, counts text, createdAt datetime)''')\n",
        "c.execute('''DELETE FROM pharmacies''')\n",
        "conn.commit()\n",
        "\n",
        "\n",
        "import requests\n",
        "import json\n",
        "\n",
        "url = 'https://raw.githubusercontent.com/kiang/pharmacies/master/json/points.json'\n",
        "response = requests.get(url)\n",
        "d = response.text\n",
        "data = json.loads(d)\n",
        "\n",
        "med_count = {}\n",
        "for d in data[\"features\"]:\n",
        "    county = d[\"properties\"][\"address\"][0:3]\n",
        "    if county not in med_count:\n",
        "        med_count[county] = 1\n",
        "    else:\n",
        "        med_count[county] += 1\n",
        "print(med_count)\n",
        "\n",
        "\n",
        "mask_count = {}\n",
        "for d in data[\"features\"]:\n",
        "    county = d[\"properties\"][\"address\"][0:3]\n",
        "    if county not in mask_count:\n",
        "        mask_count[county] = 0\n",
        "    adult_mask = d[\"properties\"][\"mask_adult\"]\n",
        "    mask_count[county] += adult_mask\n",
        "mask_count = dict(sorted(mask_count.items(), key=lambda item: item[1], reverse = True))\n",
        "print(mask_count)\n",
        "\n",
        "for city, counts in med_count.items():\n",
        "    t = datetime.datetime.now()\n",
        "    c.execute(f\"INSERT INTO pharmacies VALUES ('{city}', {counts}, '{t}')\")\n",
        "    conn.commit()\n",
        "    print(f\"INSERT INTO pharmacies VALUES ('{city}', {counts}, '{t}')\")\n",
        "c.execute(\"SELECT * FROM pharmacies\")\n",
        "print(c.fetchall())\n",
        "\n",
        "conn.commit()\n",
        "\n",
        "\n",
        "c.execute('''CREATE TABLE IF NOT EXISTS masks\n",
        "             (city text, adult_masks text, createdAt datetime)''')\n",
        "c.execute('''DELETE FROM masks''')\n",
        "conn.commit()\n",
        "\n",
        "for city, adult_masks in mask_count.items():\n",
        "    t = datetime.datetime.now()\n",
        "    c.execute(f\"INSERT INTO masks VALUES ('{city}', {adult_masks}, '{t}')\")\n",
        "    conn.commit()\n",
        "    print(f\"INSERT INTO masks VALUES ('{city}', {adult_masks}, '{t}')\")\n",
        "c.execute(\"SELECT * FROM masks\")\n",
        "print(c.fetchall())\n",
        "\n",
        "conn.commit()\n",
        "conn.close()"
      ],
      "metadata": {
        "colab": {
          "base_uri": "https://localhost:8080/"
        },
        "id": "BTkVjh35NqUU",
        "outputId": "4bdadfea-9937-4951-b291-a7c0029968d2"
      },
      "execution_count": 3,
      "outputs": [
        {
          "output_type": "stream",
          "name": "stdout",
          "text": [
            "{'臺北市': 340, '高雄市': 424, '臺中市': 436, '臺南市': 280, '基隆市': 57, '新竹市': 39, '嘉義市': 67, '新北市': 507, '桃園市': 271, '新竹縣': 48, '宜蘭縣': 76, '苗栗縣': 57, '彰化縣': 181, '南投縣': 67, '雲林縣': 131, '嘉義縣': 84, '屏東縣': 140, '澎湖縣': 11, '花蓮縣': 47, '臺東縣': 23, '金門縣': 6, '連江縣': 1}\n",
            "{'新北市': 677660, '臺中市': 556440, '高雄市': 428940, '臺南市': 408400, '桃園市': 345600, '臺北市': 323660, '彰化縣': 219400, '雲林縣': 199470, '屏東縣': 184250, '苗栗縣': 134180, '嘉義縣': 113180, '嘉義市': 107840, '宜蘭縣': 106900, '南投縣': 91240, '基隆市': 80100, '花蓮縣': 57330, '新竹縣': 53760, '新竹市': 45630, '臺東縣': 28510, '金門縣': 15510, '澎湖縣': 12600, '連江縣': 7930}\n",
            "INSERT INTO pharmacies VALUES ('臺北市', 340, '2023-04-01 12:04:03.072405')\n",
            "INSERT INTO pharmacies VALUES ('高雄市', 424, '2023-04-01 12:04:03.091068')\n",
            "INSERT INTO pharmacies VALUES ('臺中市', 436, '2023-04-01 12:04:03.101011')\n",
            "INSERT INTO pharmacies VALUES ('臺南市', 280, '2023-04-01 12:04:03.109759')\n",
            "INSERT INTO pharmacies VALUES ('基隆市', 57, '2023-04-01 12:04:03.119758')\n",
            "INSERT INTO pharmacies VALUES ('新竹市', 39, '2023-04-01 12:04:03.128354')\n",
            "INSERT INTO pharmacies VALUES ('嘉義市', 67, '2023-04-01 12:04:03.136384')\n",
            "INSERT INTO pharmacies VALUES ('新北市', 507, '2023-04-01 12:04:03.144572')\n",
            "INSERT INTO pharmacies VALUES ('桃園市', 271, '2023-04-01 12:04:03.152133')\n",
            "INSERT INTO pharmacies VALUES ('新竹縣', 48, '2023-04-01 12:04:03.163971')\n",
            "INSERT INTO pharmacies VALUES ('宜蘭縣', 76, '2023-04-01 12:04:03.171685')\n",
            "INSERT INTO pharmacies VALUES ('苗栗縣', 57, '2023-04-01 12:04:03.179602')\n",
            "INSERT INTO pharmacies VALUES ('彰化縣', 181, '2023-04-01 12:04:03.187743')\n",
            "INSERT INTO pharmacies VALUES ('南投縣', 67, '2023-04-01 12:04:03.195760')\n",
            "INSERT INTO pharmacies VALUES ('雲林縣', 131, '2023-04-01 12:04:03.204469')\n",
            "INSERT INTO pharmacies VALUES ('嘉義縣', 84, '2023-04-01 12:04:03.213067')\n",
            "INSERT INTO pharmacies VALUES ('屏東縣', 140, '2023-04-01 12:04:03.222031')\n",
            "INSERT INTO pharmacies VALUES ('澎湖縣', 11, '2023-04-01 12:04:03.230574')\n",
            "INSERT INTO pharmacies VALUES ('花蓮縣', 47, '2023-04-01 12:04:03.238780')\n",
            "INSERT INTO pharmacies VALUES ('臺東縣', 23, '2023-04-01 12:04:03.246325')\n",
            "INSERT INTO pharmacies VALUES ('金門縣', 6, '2023-04-01 12:04:03.254427')\n",
            "INSERT INTO pharmacies VALUES ('連江縣', 1, '2023-04-01 12:04:03.261999')\n",
            "[('臺北市', '340', '2023-04-01 12:04:03.072405'), ('高雄市', '424', '2023-04-01 12:04:03.091068'), ('臺中市', '436', '2023-04-01 12:04:03.101011'), ('臺南市', '280', '2023-04-01 12:04:03.109759'), ('基隆市', '57', '2023-04-01 12:04:03.119758'), ('新竹市', '39', '2023-04-01 12:04:03.128354'), ('嘉義市', '67', '2023-04-01 12:04:03.136384'), ('新北市', '507', '2023-04-01 12:04:03.144572'), ('桃園市', '271', '2023-04-01 12:04:03.152133'), ('新竹縣', '48', '2023-04-01 12:04:03.163971'), ('宜蘭縣', '76', '2023-04-01 12:04:03.171685'), ('苗栗縣', '57', '2023-04-01 12:04:03.179602'), ('彰化縣', '181', '2023-04-01 12:04:03.187743'), ('南投縣', '67', '2023-04-01 12:04:03.195760'), ('雲林縣', '131', '2023-04-01 12:04:03.204469'), ('嘉義縣', '84', '2023-04-01 12:04:03.213067'), ('屏東縣', '140', '2023-04-01 12:04:03.222031'), ('澎湖縣', '11', '2023-04-01 12:04:03.230574'), ('花蓮縣', '47', '2023-04-01 12:04:03.238780'), ('臺東縣', '23', '2023-04-01 12:04:03.246325'), ('金門縣', '6', '2023-04-01 12:04:03.254427'), ('連江縣', '1', '2023-04-01 12:04:03.261999')]\n",
            "INSERT INTO masks VALUES ('新北市', 677660, '2023-04-01 12:04:03.280951')\n",
            "INSERT INTO masks VALUES ('臺中市', 556440, '2023-04-01 12:04:03.289123')\n",
            "INSERT INTO masks VALUES ('高雄市', 428940, '2023-04-01 12:04:03.297665')\n",
            "INSERT INTO masks VALUES ('臺南市', 408400, '2023-04-01 12:04:03.305433')\n",
            "INSERT INTO masks VALUES ('桃園市', 345600, '2023-04-01 12:04:03.313706')\n",
            "INSERT INTO masks VALUES ('臺北市', 323660, '2023-04-01 12:04:03.321981')\n",
            "INSERT INTO masks VALUES ('彰化縣', 219400, '2023-04-01 12:04:03.330842')\n",
            "INSERT INTO masks VALUES ('雲林縣', 199470, '2023-04-01 12:04:03.339211')\n",
            "INSERT INTO masks VALUES ('屏東縣', 184250, '2023-04-01 12:04:03.347109')\n",
            "INSERT INTO masks VALUES ('苗栗縣', 134180, '2023-04-01 12:04:03.355424')\n",
            "INSERT INTO masks VALUES ('嘉義縣', 113180, '2023-04-01 12:04:03.363613')\n",
            "INSERT INTO masks VALUES ('嘉義市', 107840, '2023-04-01 12:04:03.371247')\n",
            "INSERT INTO masks VALUES ('宜蘭縣', 106900, '2023-04-01 12:04:03.379652')\n",
            "INSERT INTO masks VALUES ('南投縣', 91240, '2023-04-01 12:04:03.388405')\n",
            "INSERT INTO masks VALUES ('基隆市', 80100, '2023-04-01 12:04:03.395817')\n",
            "INSERT INTO masks VALUES ('花蓮縣', 57330, '2023-04-01 12:04:03.403687')\n",
            "INSERT INTO masks VALUES ('新竹縣', 53760, '2023-04-01 12:04:03.413583')\n",
            "INSERT INTO masks VALUES ('新竹市', 45630, '2023-04-01 12:04:03.421507')\n",
            "INSERT INTO masks VALUES ('臺東縣', 28510, '2023-04-01 12:04:03.429549')\n",
            "INSERT INTO masks VALUES ('金門縣', 15510, '2023-04-01 12:04:03.437655')\n",
            "INSERT INTO masks VALUES ('澎湖縣', 12600, '2023-04-01 12:04:03.458081')\n",
            "INSERT INTO masks VALUES ('連江縣', 7930, '2023-04-01 12:04:03.469132')\n",
            "[('新北市', '677660', '2023-04-01 12:04:03.280951'), ('臺中市', '556440', '2023-04-01 12:04:03.289123'), ('高雄市', '428940', '2023-04-01 12:04:03.297665'), ('臺南市', '408400', '2023-04-01 12:04:03.305433'), ('桃園市', '345600', '2023-04-01 12:04:03.313706'), ('臺北市', '323660', '2023-04-01 12:04:03.321981'), ('彰化縣', '219400', '2023-04-01 12:04:03.330842'), ('雲林縣', '199470', '2023-04-01 12:04:03.339211'), ('屏東縣', '184250', '2023-04-01 12:04:03.347109'), ('苗栗縣', '134180', '2023-04-01 12:04:03.355424'), ('嘉義縣', '113180', '2023-04-01 12:04:03.363613'), ('嘉義市', '107840', '2023-04-01 12:04:03.371247'), ('宜蘭縣', '106900', '2023-04-01 12:04:03.379652'), ('南投縣', '91240', '2023-04-01 12:04:03.388405'), ('基隆市', '80100', '2023-04-01 12:04:03.395817'), ('花蓮縣', '57330', '2023-04-01 12:04:03.403687'), ('新竹縣', '53760', '2023-04-01 12:04:03.413583'), ('新竹市', '45630', '2023-04-01 12:04:03.421507'), ('臺東縣', '28510', '2023-04-01 12:04:03.429549'), ('金門縣', '15510', '2023-04-01 12:04:03.437655'), ('澎湖縣', '12600', '2023-04-01 12:04:03.458081'), ('連江縣', '7930', '2023-04-01 12:04:03.469132')]\n"
          ]
        }
      ]
    }
  ]
}